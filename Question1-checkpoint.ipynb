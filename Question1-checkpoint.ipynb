{
 "cells": [
  {
   "cell_type": "markdown",
   "id": "bc4c3a8e",
   "metadata": {},
   "source": [
    "# Question 1\n",
    "Consider the following Python module: a = 0 def b(): global a a = c(a) def c(a): return a + 2 After importing the module into the interpreter, you execute:\n",
    "\n",
    "b() b() b() a ? What value is displayed when the last expression (a) is evaluated? Explain your answer by indicating what happens in every executed statement."
   ]
  },
  {
   "cell_type": "code",
   "execution_count": 1,
   "id": "fed80da6",
   "metadata": {},
   "outputs": [
    {
     "data": {
      "text/plain": [
       "6"
      ]
     },
     "execution_count": 1,
     "metadata": {},
     "output_type": "execute_result"
    }
   ],
   "source": [
    "a = 0  # Making the local variable 'a' and initialize it as 0 \n",
    "\n",
    "def b(): # \"b is a function that used to assign the value c(a) to a.\n",
    " global a # the local variable \"a\" as a global variable so that we can use it in the function \"c\".\n",
    " a = c(a)\n",
    "    \n",
    "def c(a): # \"c\" is a function that add 2 to the value of variable \"a\" each time when the function is called.\n",
    " return a + 2\n",
    "\n",
    "b()\n",
    "b()\n",
    "b()# we call the function \"b\" 3 times so that it increases the value of a by 2 for 3 times.\n",
    "a # print the value of a."
   ]
  },
  {
   "cell_type": "markdown",
   "id": "d3f187f3",
   "metadata": {},
   "source": [
    "Answer: The value of a is 6. Every time when the function c(a) is executed then 2 is added and since the value of 'a' is 0, 0+2 =2 and when b() is run on each time then 2 is added each time so 0+2+2+2 = 6"
   ]
  }
 ],
 "metadata": {
  "kernelspec": {
   "display_name": "Python 3 (ipykernel)",
   "language": "python",
   "name": "python3"
  },
  "language_info": {
   "codemirror_mode": {
    "name": "ipython",
    "version": 3
   },
   "file_extension": ".py",
   "mimetype": "text/x-python",
   "name": "python",
   "nbconvert_exporter": "python",
   "pygments_lexer": "ipython3",
   "version": "3.9.7"
  }
 },
 "nbformat": 4,
 "nbformat_minor": 5
}
