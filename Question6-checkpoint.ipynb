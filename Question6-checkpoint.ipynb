{
 "cells": [
  {
   "cell_type": "markdown",
   "id": "07816598",
   "metadata": {},
   "source": [
    "# Question6\n",
    "Implement a class named HeadingParser that can be used to parse an HTML document, and retrieve and print all the headings in the document. You should implement your class as a subclass of HTMLParser, defined in Standard Librarymodule html.parser. When fed\n",
    "a string containing HTML code, your class should print the headings, one per line and in the order in which they appear in the\n",
    "document. Each heading should be indented as follows: an h1 heading should have indentation 0, and h2 heading should have indentation 1, etc. Test yourimplementation using w3c.html.\n",
    ">>> infile = open('w3c.html')\n",
    ">>> content = infile.read()\n",
    ">>> infile.close()\n",
    ">>> hp = HeadingParser()\n",
    ">>> hp.feed(content)\n",
    "W3C Mission\n",
    "Principles\n"
   ]
  },
  {
   "cell_type": "code",
   "execution_count": 1,
   "id": "5eee9868",
   "metadata": {},
   "outputs": [
    {
     "name": "stdout",
     "output_type": "stream",
     "text": [
      "W3C Mission\n",
      "\tPrinciples\n"
     ]
    }
   ],
   "source": [
    "from html.parser import HTMLParser\n",
    "class HeadingParser(HTMLParser): \n",
    "    def __init__(self):\n",
    "        self.flag = False \n",
    "        self.indent = 0                                                             #indentation of 0\n",
    "        self.stack = [] \n",
    "        super().__init__()\n",
    "\n",
    "    def handle_starttag(self, tag, attrs):                                          #function handle_starttag\n",
    "        if(tag[0] == 'h' and tag[1] <='6' and tag[1] > '0' and len(tag) == 2):      #condition\n",
    "            self.stack.append(\"\")\n",
    "\n",
    "    def handle_endtag(self, tag):                                                   #function handle_endtag\n",
    "        if (tag[0] == 'h' and tag[1] <= '6' and tag[1] > '0' and len(tag) == 2):    #reading the end tag of handle\n",
    "            indent = int(tag[1]) - 1                                                #indentation\n",
    "            for i in range(0,indent):\n",
    "                print(\"\\t\",end=\"\")\n",
    "            print(self.stack.pop())\n",
    "\n",
    "    def handle_data(self, data):                                                     #define function handle_data\n",
    "        if(len(self.stack) != 0):\n",
    "            str = self.stack.pop()\n",
    "            str+=data                                                                #assigning data to string\n",
    "            self.stack.append(str)\n",
    "                    \n",
    "infile = open('W3c.html')\n",
    "content = infile.read()\n",
    "infile.close()\n",
    "hp = HeadingParser()\n",
    "hp.feed(content)   "
   ]
  },
  {
   "cell_type": "code",
   "execution_count": null,
   "id": "232fd86d",
   "metadata": {},
   "outputs": [],
   "source": []
  }
 ],
 "metadata": {
  "kernelspec": {
   "display_name": "Python 3 (ipykernel)",
   "language": "python",
   "name": "python3"
  },
  "language_info": {
   "codemirror_mode": {
    "name": "ipython",
    "version": 3
   },
   "file_extension": ".py",
   "mimetype": "text/x-python",
   "name": "python",
   "nbconvert_exporter": "python",
   "pygments_lexer": "ipython3",
   "version": "3.9.7"
  }
 },
 "nbformat": 4,
 "nbformat_minor": 5
}
