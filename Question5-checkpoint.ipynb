{
 "cells": [
  {
   "cell_type": "markdown",
   "id": "63decdb8",
   "metadata": {},
   "source": [
    "# Question 5\n",
    "Write a recursive method binary() that takes a non-negative\n",
    "integer n and prints the binary representation of integer n.\n",
    ">>> binary(0)\n",
    "0\n",
    ">>> binary(1)\n",
    "1\n",
    ">>> binary(3)\n",
    "11\n",
    ">>> binary(9)\n",
    "1001"
   ]
  },
  {
   "cell_type": "code",
   "execution_count": 1,
   "id": "79948923",
   "metadata": {},
   "outputs": [
    {
     "data": {
      "text/plain": [
       "'0'"
      ]
     },
     "execution_count": 1,
     "metadata": {},
     "output_type": "execute_result"
    }
   ],
   "source": [
    "def binary(b):\n",
    "    a=str(b%2)\n",
    "    if b>>1>0:\n",
    "        a += binary(b>>1)\n",
    "    return a\n",
    "binary(0)"
   ]
  },
  {
   "cell_type": "code",
   "execution_count": 2,
   "id": "54f6c8a1",
   "metadata": {},
   "outputs": [
    {
     "data": {
      "text/plain": [
       "'1'"
      ]
     },
     "execution_count": 2,
     "metadata": {},
     "output_type": "execute_result"
    }
   ],
   "source": [
    "binary(1)"
   ]
  },
  {
   "cell_type": "code",
   "execution_count": 3,
   "id": "fbb98c9f",
   "metadata": {},
   "outputs": [
    {
     "data": {
      "text/plain": [
       "'11'"
      ]
     },
     "execution_count": 3,
     "metadata": {},
     "output_type": "execute_result"
    }
   ],
   "source": [
    "binary(3)"
   ]
  },
  {
   "cell_type": "code",
   "execution_count": 4,
   "id": "a3d21dfb",
   "metadata": {},
   "outputs": [
    {
     "data": {
      "text/plain": [
       "'1001'"
      ]
     },
     "execution_count": 4,
     "metadata": {},
     "output_type": "execute_result"
    }
   ],
   "source": [
    "binary(9)"
   ]
  },
  {
   "cell_type": "code",
   "execution_count": null,
   "id": "8165c5b9",
   "metadata": {},
   "outputs": [],
   "source": []
  }
 ],
 "metadata": {
  "kernelspec": {
   "display_name": "Python 3 (ipykernel)",
   "language": "python",
   "name": "python3"
  },
  "language_info": {
   "codemirror_mode": {
    "name": "ipython",
    "version": 3
   },
   "file_extension": ".py",
   "mimetype": "text/x-python",
   "name": "python",
   "nbconvert_exporter": "python",
   "pygments_lexer": "ipython3",
   "version": "3.9.7"
  }
 },
 "nbformat": 4,
 "nbformat_minor": 5
}
